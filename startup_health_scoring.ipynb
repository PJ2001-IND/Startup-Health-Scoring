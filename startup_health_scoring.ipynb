{
 "cells": [
  {
   "cell_type": "markdown",
   "id": "8b4eacee",
   "metadata": {},
   "source": [
    "Imports & Load Data"
   ]
  },
  {
   "cell_type": "code",
   "execution_count": 325,
   "id": "85ecd0de",
   "metadata": {},
   "outputs": [],
   "source": [
    "#Import libraries\n",
    "import pandas as pd\n",
    "import numpy as np\n",
    "import seaborn as sns\n",
    "import matplotlib.pyplot as plt\n",
    "from sklearn.preprocessing import MinMaxScaler\n",
    "from sklearn.ensemble import RandomForestRegressor\n",
    "from sklearn.model_selection import cross_val_score\n",
    "from sklearn.metrics import mean_squared_error"
   ]
  },
  {
   "cell_type": "code",
   "execution_count": null,
   "id": "c0659078",
   "metadata": {},
   "outputs": [
    {
     "data": {
      "text/html": [
       "<div>\n",
       "<style scoped>\n",
       "    .dataframe tbody tr th:only-of-type {\n",
       "        vertical-align: middle;\n",
       "    }\n",
       "\n",
       "    .dataframe tbody tr th {\n",
       "        vertical-align: top;\n",
       "    }\n",
       "\n",
       "    .dataframe thead th {\n",
       "        text-align: right;\n",
       "    }\n",
       "</style>\n",
       "<table border=\"1\" class=\"dataframe\">\n",
       "  <thead>\n",
       "    <tr style=\"text-align: right;\">\n",
       "      <th></th>\n",
       "      <th>startup_id</th>\n",
       "      <th>team_experience</th>\n",
       "      <th>market_size_million_usd</th>\n",
       "      <th>monthly_active_users</th>\n",
       "      <th>monthly_burn_rate_inr</th>\n",
       "      <th>funds_raised_inr</th>\n",
       "      <th>valuation_inr</th>\n",
       "    </tr>\n",
       "  </thead>\n",
       "  <tbody>\n",
       "    <tr>\n",
       "      <th>0</th>\n",
       "      <td>S001</td>\n",
       "      <td>7</td>\n",
       "      <td>789</td>\n",
       "      <td>66299</td>\n",
       "      <td>6091495</td>\n",
       "      <td>4183839</td>\n",
       "      <td>263247468</td>\n",
       "    </tr>\n",
       "    <tr>\n",
       "      <th>1</th>\n",
       "      <td>S002</td>\n",
       "      <td>4</td>\n",
       "      <td>939</td>\n",
       "      <td>34866</td>\n",
       "      <td>9106842</td>\n",
       "      <td>666326</td>\n",
       "      <td>172927107</td>\n",
       "    </tr>\n",
       "    <tr>\n",
       "      <th>2</th>\n",
       "      <td>S003</td>\n",
       "      <td>8</td>\n",
       "      <td>42</td>\n",
       "      <td>73630</td>\n",
       "      <td>8817088</td>\n",
       "      <td>649150</td>\n",
       "      <td>313090455</td>\n",
       "    </tr>\n",
       "    <tr>\n",
       "      <th>3</th>\n",
       "      <td>S004</td>\n",
       "      <td>5</td>\n",
       "      <td>57</td>\n",
       "      <td>93657</td>\n",
       "      <td>6374167</td>\n",
       "      <td>20153173</td>\n",
       "      <td>305887183</td>\n",
       "    </tr>\n",
       "    <tr>\n",
       "      <th>4</th>\n",
       "      <td>S005</td>\n",
       "      <td>7</td>\n",
       "      <td>512</td>\n",
       "      <td>61187</td>\n",
       "      <td>841971</td>\n",
       "      <td>118834</td>\n",
       "      <td>84815222</td>\n",
       "    </tr>\n",
       "    <tr>\n",
       "      <th>...</th>\n",
       "      <td>...</td>\n",
       "      <td>...</td>\n",
       "      <td>...</td>\n",
       "      <td>...</td>\n",
       "      <td>...</td>\n",
       "      <td>...</td>\n",
       "      <td>...</td>\n",
       "    </tr>\n",
       "    <tr>\n",
       "      <th>95</th>\n",
       "      <td>S096</td>\n",
       "      <td>10</td>\n",
       "      <td>327</td>\n",
       "      <td>51507</td>\n",
       "      <td>8887590</td>\n",
       "      <td>49655442</td>\n",
       "      <td>98146618</td>\n",
       "    </tr>\n",
       "    <tr>\n",
       "      <th>96</th>\n",
       "      <td>S097</td>\n",
       "      <td>9</td>\n",
       "      <td>686</td>\n",
       "      <td>66790</td>\n",
       "      <td>1222622</td>\n",
       "      <td>13470137</td>\n",
       "      <td>439431826</td>\n",
       "    </tr>\n",
       "    <tr>\n",
       "      <th>97</th>\n",
       "      <td>S098</td>\n",
       "      <td>7</td>\n",
       "      <td>234</td>\n",
       "      <td>4599</td>\n",
       "      <td>2553771</td>\n",
       "      <td>4466271</td>\n",
       "      <td>70995760</td>\n",
       "    </tr>\n",
       "    <tr>\n",
       "      <th>98</th>\n",
       "      <td>S099</td>\n",
       "      <td>9</td>\n",
       "      <td>828</td>\n",
       "      <td>6395</td>\n",
       "      <td>3227825</td>\n",
       "      <td>34907127</td>\n",
       "      <td>239717603</td>\n",
       "    </tr>\n",
       "    <tr>\n",
       "      <th>99</th>\n",
       "      <td>S100</td>\n",
       "      <td>8</td>\n",
       "      <td>243</td>\n",
       "      <td>59140</td>\n",
       "      <td>1046161</td>\n",
       "      <td>10495300</td>\n",
       "      <td>56547339</td>\n",
       "    </tr>\n",
       "  </tbody>\n",
       "</table>\n",
       "<p>100 rows × 7 columns</p>\n",
       "</div>"
      ],
      "text/plain": [
       "   startup_id  team_experience  market_size_million_usd  monthly_active_users  \\\n",
       "0        S001                7                      789                 66299   \n",
       "1        S002                4                      939                 34866   \n",
       "2        S003                8                       42                 73630   \n",
       "3        S004                5                       57                 93657   \n",
       "4        S005                7                      512                 61187   \n",
       "..        ...              ...                      ...                   ...   \n",
       "95       S096               10                      327                 51507   \n",
       "96       S097                9                      686                 66790   \n",
       "97       S098                7                      234                  4599   \n",
       "98       S099                9                      828                  6395   \n",
       "99       S100                8                      243                 59140   \n",
       "\n",
       "    monthly_burn_rate_inr  funds_raised_inr  valuation_inr  \n",
       "0                 6091495           4183839      263247468  \n",
       "1                 9106842            666326      172927107  \n",
       "2                 8817088            649150      313090455  \n",
       "3                 6374167          20153173      305887183  \n",
       "4                  841971            118834       84815222  \n",
       "..                    ...               ...            ...  \n",
       "95                8887590          49655442       98146618  \n",
       "96                1222622          13470137      439431826  \n",
       "97                2553771           4466271       70995760  \n",
       "98                3227825          34907127      239717603  \n",
       "99                1046161          10495300       56547339  \n",
       "\n",
       "[100 rows x 7 columns]"
      ]
     },
     "execution_count": 326,
     "metadata": {},
     "output_type": "execute_result"
    }
   ],
   "source": [
    "# Load dataset\n",
    "df = pd.read_csv('data/Startup_Scoring_Dataset.csv')\n",
    "df"
   ]
  },
  {
   "cell_type": "code",
   "execution_count": 327,
   "id": "d8013568",
   "metadata": {},
   "outputs": [
    {
     "data": {
      "text/html": [
       "<div>\n",
       "<style scoped>\n",
       "    .dataframe tbody tr th:only-of-type {\n",
       "        vertical-align: middle;\n",
       "    }\n",
       "\n",
       "    .dataframe tbody tr th {\n",
       "        vertical-align: top;\n",
       "    }\n",
       "\n",
       "    .dataframe thead th {\n",
       "        text-align: right;\n",
       "    }\n",
       "</style>\n",
       "<table border=\"1\" class=\"dataframe\">\n",
       "  <thead>\n",
       "    <tr style=\"text-align: right;\">\n",
       "      <th></th>\n",
       "      <th>startup_id</th>\n",
       "      <th>team_experience</th>\n",
       "      <th>market_size_million_usd</th>\n",
       "      <th>monthly_active_users</th>\n",
       "      <th>monthly_burn_rate_inr</th>\n",
       "      <th>funds_raised_inr</th>\n",
       "      <th>valuation_inr</th>\n",
       "    </tr>\n",
       "  </thead>\n",
       "  <tbody>\n",
       "    <tr>\n",
       "      <th>0</th>\n",
       "      <td>S001</td>\n",
       "      <td>7</td>\n",
       "      <td>789</td>\n",
       "      <td>66299</td>\n",
       "      <td>6091495</td>\n",
       "      <td>4183839</td>\n",
       "      <td>263247468</td>\n",
       "    </tr>\n",
       "    <tr>\n",
       "      <th>1</th>\n",
       "      <td>S002</td>\n",
       "      <td>4</td>\n",
       "      <td>939</td>\n",
       "      <td>34866</td>\n",
       "      <td>9106842</td>\n",
       "      <td>666326</td>\n",
       "      <td>172927107</td>\n",
       "    </tr>\n",
       "    <tr>\n",
       "      <th>2</th>\n",
       "      <td>S003</td>\n",
       "      <td>8</td>\n",
       "      <td>42</td>\n",
       "      <td>73630</td>\n",
       "      <td>8817088</td>\n",
       "      <td>649150</td>\n",
       "      <td>313090455</td>\n",
       "    </tr>\n",
       "    <tr>\n",
       "      <th>3</th>\n",
       "      <td>S004</td>\n",
       "      <td>5</td>\n",
       "      <td>57</td>\n",
       "      <td>93657</td>\n",
       "      <td>6374167</td>\n",
       "      <td>20153173</td>\n",
       "      <td>305887183</td>\n",
       "    </tr>\n",
       "    <tr>\n",
       "      <th>4</th>\n",
       "      <td>S005</td>\n",
       "      <td>7</td>\n",
       "      <td>512</td>\n",
       "      <td>61187</td>\n",
       "      <td>841971</td>\n",
       "      <td>118834</td>\n",
       "      <td>84815222</td>\n",
       "    </tr>\n",
       "  </tbody>\n",
       "</table>\n",
       "</div>"
      ],
      "text/plain": [
       "  startup_id  team_experience  market_size_million_usd  monthly_active_users  \\\n",
       "0       S001                7                      789                 66299   \n",
       "1       S002                4                      939                 34866   \n",
       "2       S003                8                       42                 73630   \n",
       "3       S004                5                       57                 93657   \n",
       "4       S005                7                      512                 61187   \n",
       "\n",
       "   monthly_burn_rate_inr  funds_raised_inr  valuation_inr  \n",
       "0                6091495           4183839      263247468  \n",
       "1                9106842            666326      172927107  \n",
       "2                8817088            649150      313090455  \n",
       "3                6374167          20153173      305887183  \n",
       "4                 841971            118834       84815222  "
      ]
     },
     "execution_count": 327,
     "metadata": {},
     "output_type": "execute_result"
    }
   ],
   "source": [
    "df.head()"
   ]
  },
  {
   "cell_type": "code",
   "execution_count": 328,
   "id": "37712be5",
   "metadata": {},
   "outputs": [
    {
     "data": {
      "text/html": [
       "<div>\n",
       "<style scoped>\n",
       "    .dataframe tbody tr th:only-of-type {\n",
       "        vertical-align: middle;\n",
       "    }\n",
       "\n",
       "    .dataframe tbody tr th {\n",
       "        vertical-align: top;\n",
       "    }\n",
       "\n",
       "    .dataframe thead th {\n",
       "        text-align: right;\n",
       "    }\n",
       "</style>\n",
       "<table border=\"1\" class=\"dataframe\">\n",
       "  <thead>\n",
       "    <tr style=\"text-align: right;\">\n",
       "      <th></th>\n",
       "      <th>team_experience</th>\n",
       "      <th>market_size_million_usd</th>\n",
       "      <th>monthly_active_users</th>\n",
       "      <th>monthly_burn_rate_inr</th>\n",
       "      <th>funds_raised_inr</th>\n",
       "      <th>valuation_inr</th>\n",
       "    </tr>\n",
       "  </thead>\n",
       "  <tbody>\n",
       "    <tr>\n",
       "      <th>count</th>\n",
       "      <td>100.000000</td>\n",
       "      <td>100.000000</td>\n",
       "      <td>100.000000</td>\n",
       "      <td>1.000000e+02</td>\n",
       "      <td>1.000000e+02</td>\n",
       "      <td>1.000000e+02</td>\n",
       "    </tr>\n",
       "    <tr>\n",
       "      <th>mean</th>\n",
       "      <td>5.910000</td>\n",
       "      <td>548.500000</td>\n",
       "      <td>52002.670000</td>\n",
       "      <td>5.271927e+06</td>\n",
       "      <td>2.256808e+07</td>\n",
       "      <td>2.316022e+08</td>\n",
       "    </tr>\n",
       "    <tr>\n",
       "      <th>std</th>\n",
       "      <td>2.871296</td>\n",
       "      <td>270.025046</td>\n",
       "      <td>29193.444748</td>\n",
       "      <td>2.801648e+06</td>\n",
       "      <td>1.633037e+07</td>\n",
       "      <td>1.388826e+08</td>\n",
       "    </tr>\n",
       "    <tr>\n",
       "      <th>min</th>\n",
       "      <td>1.000000</td>\n",
       "      <td>14.000000</td>\n",
       "      <td>954.000000</td>\n",
       "      <td>1.663810e+05</td>\n",
       "      <td>1.188340e+05</td>\n",
       "      <td>1.007064e+07</td>\n",
       "    </tr>\n",
       "    <tr>\n",
       "      <th>25%</th>\n",
       "      <td>3.000000</td>\n",
       "      <td>346.750000</td>\n",
       "      <td>26729.250000</td>\n",
       "      <td>2.928578e+06</td>\n",
       "      <td>5.996659e+06</td>\n",
       "      <td>1.121723e+08</td>\n",
       "    </tr>\n",
       "    <tr>\n",
       "      <th>50%</th>\n",
       "      <td>6.000000</td>\n",
       "      <td>578.000000</td>\n",
       "      <td>52472.500000</td>\n",
       "      <td>5.277296e+06</td>\n",
       "      <td>2.214305e+07</td>\n",
       "      <td>2.437296e+08</td>\n",
       "    </tr>\n",
       "    <tr>\n",
       "      <th>75%</th>\n",
       "      <td>8.000000</td>\n",
       "      <td>755.000000</td>\n",
       "      <td>74684.750000</td>\n",
       "      <td>7.694987e+06</td>\n",
       "      <td>3.549996e+07</td>\n",
       "      <td>3.198588e+08</td>\n",
       "    </tr>\n",
       "    <tr>\n",
       "      <th>max</th>\n",
       "      <td>10.000000</td>\n",
       "      <td>996.000000</td>\n",
       "      <td>98606.000000</td>\n",
       "      <td>9.931393e+06</td>\n",
       "      <td>4.965544e+07</td>\n",
       "      <td>4.978948e+08</td>\n",
       "    </tr>\n",
       "  </tbody>\n",
       "</table>\n",
       "</div>"
      ],
      "text/plain": [
       "       team_experience  market_size_million_usd  monthly_active_users  \\\n",
       "count       100.000000               100.000000            100.000000   \n",
       "mean          5.910000               548.500000          52002.670000   \n",
       "std           2.871296               270.025046          29193.444748   \n",
       "min           1.000000                14.000000            954.000000   \n",
       "25%           3.000000               346.750000          26729.250000   \n",
       "50%           6.000000               578.000000          52472.500000   \n",
       "75%           8.000000               755.000000          74684.750000   \n",
       "max          10.000000               996.000000          98606.000000   \n",
       "\n",
       "       monthly_burn_rate_inr  funds_raised_inr  valuation_inr  \n",
       "count           1.000000e+02      1.000000e+02   1.000000e+02  \n",
       "mean            5.271927e+06      2.256808e+07   2.316022e+08  \n",
       "std             2.801648e+06      1.633037e+07   1.388826e+08  \n",
       "min             1.663810e+05      1.188340e+05   1.007064e+07  \n",
       "25%             2.928578e+06      5.996659e+06   1.121723e+08  \n",
       "50%             5.277296e+06      2.214305e+07   2.437296e+08  \n",
       "75%             7.694987e+06      3.549996e+07   3.198588e+08  \n",
       "max             9.931393e+06      4.965544e+07   4.978948e+08  "
      ]
     },
     "execution_count": 328,
     "metadata": {},
     "output_type": "execute_result"
    }
   ],
   "source": [
    "df.describe()"
   ]
  },
  {
   "cell_type": "code",
   "execution_count": 329,
   "id": "0943a363",
   "metadata": {},
   "outputs": [
    {
     "name": "stdout",
     "output_type": "stream",
     "text": [
      "<class 'pandas.core.frame.DataFrame'>\n",
      "RangeIndex: 100 entries, 0 to 99\n",
      "Data columns (total 7 columns):\n",
      " #   Column                   Non-Null Count  Dtype \n",
      "---  ------                   --------------  ----- \n",
      " 0   startup_id               100 non-null    object\n",
      " 1   team_experience          100 non-null    int64 \n",
      " 2   market_size_million_usd  100 non-null    int64 \n",
      " 3   monthly_active_users     100 non-null    int64 \n",
      " 4   monthly_burn_rate_inr    100 non-null    int64 \n",
      " 5   funds_raised_inr         100 non-null    int64 \n",
      " 6   valuation_inr            100 non-null    int64 \n",
      "dtypes: int64(6), object(1)\n",
      "memory usage: 5.6+ KB\n"
     ]
    }
   ],
   "source": [
    "df.info()"
   ]
  },
  {
   "cell_type": "code",
   "execution_count": 330,
   "id": "cc0bea75",
   "metadata": {},
   "outputs": [
    {
     "name": "stdout",
     "output_type": "stream",
     "text": [
      "(100, 7)\n"
     ]
    }
   ],
   "source": [
    "print(df.shape)"
   ]
  },
  {
   "cell_type": "markdown",
   "id": "a7274a9b",
   "metadata": {},
   "source": [
    "Data Preprocessing & Normalization"
   ]
  },
  {
   "cell_type": "code",
   "execution_count": 331,
   "id": "24dd08eb",
   "metadata": {},
   "outputs": [],
   "source": [
    "# Min-Max scaling function\n",
    "scaler = MinMaxScaler()\n",
    "\n",
    "# Positively correlated features (higher = better)\n",
    "pos_features = ['team_experience', 'market_size_million_usd', 'monthly_active_users', \n",
    "                'funds_raised_inr', 'valuation_inr']"
   ]
  },
  {
   "cell_type": "code",
   "execution_count": 332,
   "id": "cb1cf012",
   "metadata": {},
   "outputs": [],
   "source": [
    "# Negatively correlated feature (higher = worse)\n",
    "neg_features = ['monthly_burn_rate_inr']"
   ]
  },
  {
   "cell_type": "code",
   "execution_count": 333,
   "id": "9f438ce1",
   "metadata": {},
   "outputs": [],
   "source": [
    "# Normalize positive features\n",
    "df_scaled = df.copy()\n",
    "df_scaled[pos_features] = scaler.fit_transform(df[pos_features])"
   ]
  },
  {
   "cell_type": "code",
   "execution_count": 334,
   "id": "ad2fd333",
   "metadata": {},
   "outputs": [],
   "source": [
    "# Normalize negative features (reverse scoring)\n",
    "df_scaled[neg_features] = 1 - scaler.fit_transform(df[neg_features])"
   ]
  },
  {
   "cell_type": "markdown",
   "id": "215841be",
   "metadata": {},
   "source": [
    "Define Scoring Formula (Composite Score)"
   ]
  },
  {
   "cell_type": "code",
   "execution_count": 335,
   "id": "f1063f6b",
   "metadata": {},
   "outputs": [],
   "source": [
    "# Feature weights (based on business intuition)\n",
    "weights = {\n",
    "    'team_experience': 0.15,\n",
    "    'market_size_million_usd': 0.20,\n",
    "    'monthly_active_users': 0.25,\n",
    "    'monthly_burn_rate_inr': 0.10,\n",
    "    'funds_raised_inr': 0.15,\n",
    "    'valuation_inr': 0.15\n",
    "}"
   ]
  },
  {
   "cell_type": "code",
   "execution_count": 336,
   "id": "daeeea78",
   "metadata": {},
   "outputs": [],
   "source": [
    "# Compute weighted score\n",
    "df_scaled['composite_score'] = sum(\n",
    "    df_scaled[feature] * weight for feature, weight in weights.items()\n",
    ") * 100  # final score out of 100"
   ]
  },
  {
   "cell_type": "markdown",
   "id": "79bf1723",
   "metadata": {},
   "source": [
    "Ranking and Interpretation"
   ]
  },
  {
   "cell_type": "code",
   "execution_count": 337,
   "id": "884f7e40",
   "metadata": {},
   "outputs": [],
   "source": [
    "# Rank startups\n",
    "df_scaled['rank'] = df_scaled['composite_score'].rank(ascending=False)\n",
    "df_sorted = df_scaled.sort_values(by='composite_score', ascending=False)"
   ]
  },
  {
   "cell_type": "code",
   "execution_count": 338,
   "id": "319d7117",
   "metadata": {},
   "outputs": [],
   "source": [
    "# Top 10 and Bottom 10\n",
    "top_10 = df_sorted.head(10)\n",
    "bottom_10 = df_sorted.tail(10)"
   ]
  },
  {
   "cell_type": "code",
   "execution_count": 339,
   "id": "8152ce26",
   "metadata": {},
   "outputs": [
    {
     "data": {
      "text/html": [
       "<div>\n",
       "<style scoped>\n",
       "    .dataframe tbody tr th:only-of-type {\n",
       "        vertical-align: middle;\n",
       "    }\n",
       "\n",
       "    .dataframe tbody tr th {\n",
       "        vertical-align: top;\n",
       "    }\n",
       "\n",
       "    .dataframe thead th {\n",
       "        text-align: right;\n",
       "    }\n",
       "</style>\n",
       "<table border=\"1\" class=\"dataframe\">\n",
       "  <thead>\n",
       "    <tr style=\"text-align: right;\">\n",
       "      <th></th>\n",
       "      <th>startup_id</th>\n",
       "      <th>composite_score</th>\n",
       "    </tr>\n",
       "  </thead>\n",
       "  <tbody>\n",
       "    <tr>\n",
       "      <th>5</th>\n",
       "      <td>S006</td>\n",
       "      <td>81.037331</td>\n",
       "    </tr>\n",
       "    <tr>\n",
       "      <th>76</th>\n",
       "      <td>S077</td>\n",
       "      <td>77.047933</td>\n",
       "    </tr>\n",
       "    <tr>\n",
       "      <th>44</th>\n",
       "      <td>S045</td>\n",
       "      <td>75.655026</td>\n",
       "    </tr>\n",
       "    <tr>\n",
       "      <th>32</th>\n",
       "      <td>S033</td>\n",
       "      <td>74.936099</td>\n",
       "    </tr>\n",
       "    <tr>\n",
       "      <th>12</th>\n",
       "      <td>S013</td>\n",
       "      <td>74.675295</td>\n",
       "    </tr>\n",
       "    <tr>\n",
       "      <th>28</th>\n",
       "      <td>S029</td>\n",
       "      <td>73.114982</td>\n",
       "    </tr>\n",
       "    <tr>\n",
       "      <th>96</th>\n",
       "      <td>S097</td>\n",
       "      <td>70.037973</td>\n",
       "    </tr>\n",
       "    <tr>\n",
       "      <th>11</th>\n",
       "      <td>S012</td>\n",
       "      <td>69.810579</td>\n",
       "    </tr>\n",
       "    <tr>\n",
       "      <th>7</th>\n",
       "      <td>S008</td>\n",
       "      <td>69.671483</td>\n",
       "    </tr>\n",
       "    <tr>\n",
       "      <th>42</th>\n",
       "      <td>S043</td>\n",
       "      <td>69.554850</td>\n",
       "    </tr>\n",
       "  </tbody>\n",
       "</table>\n",
       "</div>"
      ],
      "text/plain": [
       "   startup_id  composite_score\n",
       "5        S006        81.037331\n",
       "76       S077        77.047933\n",
       "44       S045        75.655026\n",
       "32       S033        74.936099\n",
       "12       S013        74.675295\n",
       "28       S029        73.114982\n",
       "96       S097        70.037973\n",
       "11       S012        69.810579\n",
       "7        S008        69.671483\n",
       "42       S043        69.554850"
      ]
     },
     "execution_count": 339,
     "metadata": {},
     "output_type": "execute_result"
    }
   ],
   "source": [
    "top_10[['startup_id', 'composite_score']]"
   ]
  },
  {
   "cell_type": "code",
   "execution_count": 340,
   "id": "3885156b",
   "metadata": {},
   "outputs": [
    {
     "data": {
      "text/html": [
       "<div>\n",
       "<style scoped>\n",
       "    .dataframe tbody tr th:only-of-type {\n",
       "        vertical-align: middle;\n",
       "    }\n",
       "\n",
       "    .dataframe tbody tr th {\n",
       "        vertical-align: top;\n",
       "    }\n",
       "\n",
       "    .dataframe thead th {\n",
       "        text-align: right;\n",
       "    }\n",
       "</style>\n",
       "<table border=\"1\" class=\"dataframe\">\n",
       "  <thead>\n",
       "    <tr style=\"text-align: right;\">\n",
       "      <th></th>\n",
       "      <th>startup_id</th>\n",
       "      <th>composite_score</th>\n",
       "    </tr>\n",
       "  </thead>\n",
       "  <tbody>\n",
       "    <tr>\n",
       "      <th>73</th>\n",
       "      <td>S074</td>\n",
       "      <td>33.662372</td>\n",
       "    </tr>\n",
       "    <tr>\n",
       "      <th>16</th>\n",
       "      <td>S017</td>\n",
       "      <td>33.527899</td>\n",
       "    </tr>\n",
       "    <tr>\n",
       "      <th>60</th>\n",
       "      <td>S061</td>\n",
       "      <td>32.964227</td>\n",
       "    </tr>\n",
       "    <tr>\n",
       "      <th>50</th>\n",
       "      <td>S051</td>\n",
       "      <td>32.321262</td>\n",
       "    </tr>\n",
       "    <tr>\n",
       "      <th>78</th>\n",
       "      <td>S079</td>\n",
       "      <td>30.430187</td>\n",
       "    </tr>\n",
       "    <tr>\n",
       "      <th>83</th>\n",
       "      <td>S084</td>\n",
       "      <td>30.144740</td>\n",
       "    </tr>\n",
       "    <tr>\n",
       "      <th>57</th>\n",
       "      <td>S058</td>\n",
       "      <td>28.567332</td>\n",
       "    </tr>\n",
       "    <tr>\n",
       "      <th>22</th>\n",
       "      <td>S023</td>\n",
       "      <td>26.262269</td>\n",
       "    </tr>\n",
       "    <tr>\n",
       "      <th>97</th>\n",
       "      <td>S098</td>\n",
       "      <td>26.158777</td>\n",
       "    </tr>\n",
       "    <tr>\n",
       "      <th>54</th>\n",
       "      <td>S055</td>\n",
       "      <td>19.094732</td>\n",
       "    </tr>\n",
       "  </tbody>\n",
       "</table>\n",
       "</div>"
      ],
      "text/plain": [
       "   startup_id  composite_score\n",
       "73       S074        33.662372\n",
       "16       S017        33.527899\n",
       "60       S061        32.964227\n",
       "50       S051        32.321262\n",
       "78       S079        30.430187\n",
       "83       S084        30.144740\n",
       "57       S058        28.567332\n",
       "22       S023        26.262269\n",
       "97       S098        26.158777\n",
       "54       S055        19.094732"
      ]
     },
     "execution_count": 340,
     "metadata": {},
     "output_type": "execute_result"
    }
   ],
   "source": [
    "bottom_10[['startup_id', 'composite_score']]"
   ]
  },
  {
   "cell_type": "markdown",
   "id": "e00823f8",
   "metadata": {},
   "source": [
    "Visualizations"
   ]
  },
  {
   "cell_type": "code",
   "execution_count": null,
   "id": "cdd734ed",
   "metadata": {},
   "outputs": [
    {
     "data": {
      "image/png": "[encoded data removed]",
      "text/plain": [
       "<Figure size 1400x600 with 1 Axes>"
      ]
     },
     "metadata": {},
     "output_type": "display_data"
    }
   ],
   "source": [
    "# Bar chart of scores\n",
    "plt.figure(figsize=(14,6))\n",
    "sns.barplot(x='startup_id', y='composite_score', data=df_sorted)\n",
    "plt.xticks([], [])\n",
    "plt.title(\"Startup Composite Scores (Sorted)\")\n",
    "plt.savefig('outputs/bar_chart.png')\n",
    "plt.show()"
   ]
  },
  {
   "cell_type": "code",
   "execution_count": null,
   "id": "afe3fd1f",
   "metadata": {},
   "outputs": [
    {
     "data": {
      "image/png": "[encoded data removed]",
      "text/plain": [
       "<Figure size 640x480 with 1 Axes>"
      ]
     },
     "metadata": {},
     "output_type": "display_data"
    }
   ],
   "source": [
    "# Score distribution\n",
    "sns.histplot(df_scaled['composite_score'], bins=20, kde=True)\n",
    "plt.title(\"Score Distribution\")\n",
    "plt.savefig('outputs/score_distribution.png')\n",
    "plt.show()"
   ]
  },
  {
   "cell_type": "code",
   "execution_count": null,
   "id": "92d7d059",
   "metadata": {},
   "outputs": [
    {
     "data": {
      "image/png": "[encoded data removed]",
      "text/plain": [
       "<Figure size 1000x600 with 2 Axes>"
      ]
     },
     "metadata": {},
     "output_type": "display_data"
    }
   ],
   "source": [
    "# Correlation heatmap\n",
    "plt.figure(figsize=(10,6))\n",
    "sns.heatmap(df_scaled[pos_features + neg_features].corr(), annot=True, cmap=\"coolwarm\")\n",
    "plt.title(\"Feature Correlation Heatmap\")\n",
    "plt.savefig('outputs/correlation_heatmap.png')\n",
    "plt.show()"
   ]
  },
  {
   "cell_type": "markdown",
   "id": "a652530a",
   "metadata": {},
   "source": [
    "Model Evaluation & Feature Importance"
   ]
  },
  {
   "cell_type": "code",
   "execution_count": 344,
   "id": "813a2a3a",
   "metadata": {},
   "outputs": [],
   "source": [
    "# Simulate: Try predicting the composite score using a regression model\n",
    "X = df_scaled[pos_features + neg_features]\n",
    "y = df_scaled['composite_score']"
   ]
  },
  {
   "cell_type": "code",
   "execution_count": 345,
   "id": "31b910a5",
   "metadata": {},
   "outputs": [
    {
     "name": "stdout",
     "output_type": "stream",
     "text": [
      "Cross-Validated RMSE: 6.32102568204956\n"
     ]
    }
   ],
   "source": [
    "model = RandomForestRegressor()\n",
    "cv_rmse = np.sqrt(-cross_val_score(model, X, y, scoring='neg_mean_squared_error', cv=5))\n",
    "print(\"Cross-Validated RMSE:\", cv_rmse.mean())"
   ]
  },
  {
   "cell_type": "code",
   "execution_count": null,
   "id": "f16d9ce2",
   "metadata": {},
   "outputs": [
    {
     "data": {
      "image/png": "[encoded data removed]",
      "text/plain": [
       "<Figure size 640x480 with 1 Axes>"
      ]
     },
     "metadata": {},
     "output_type": "display_data"
    }
   ],
   "source": [
    "# Feature importance\n",
    "model.fit(X, y)\n",
    "importances = pd.Series(model.feature_importances_, index=X.columns)\n",
    "importances.sort_values().plot(kind='barh')\n",
    "plt.title(\"Feature Importance\")\n",
    "plt.savefig('outputs/feature_importance.png')\n",
    "plt.show()"
   ]
  }
 ],
 "metadata": {
  "kernelspec": {
   "display_name": "Python 3",
   "language": "python",
   "name": "python3"
  },
  "language_info": {
   "codemirror_mode": {
    "name": "ipython",
    "version": 3
   },
   "file_extension": ".py",
   "mimetype": "text/x-python",
   "name": "python",
   "nbconvert_exporter": "python",
   "pygments_lexer": "ipython3",
   "version": "3.13.3"
  }
 },
 "nbformat": 4,
 "nbformat_minor": 5
}
